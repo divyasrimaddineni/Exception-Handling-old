{
 "cells": [
  {
   "cell_type": "markdown",
   "metadata": {},
   "source": [
    "# EXCEPTION HANDLING"
   ]
  },
  {
   "cell_type": "markdown",
   "metadata": {},
   "source": [
    "### 1.Syntax Error"
   ]
  },
  {
   "cell_type": "code",
   "execution_count": null,
   "metadata": {},
   "outputs": [],
   "source": [
    "x=10\n",
    "if x==10\n",
    "print(\"hello\")"
   ]
  },
  {
   "cell_type": "code",
   "execution_count": null,
   "metadata": {},
   "outputs": [],
   "source": [
    "print \"hello\""
   ]
  },
  {
   "cell_type": "markdown",
   "metadata": {},
   "source": [
    "### 2.Runtime Error"
   ]
  },
  {
   "cell_type": "code",
   "execution_count": null,
   "metadata": {},
   "outputs": [],
   "source": [
    "print(10/0)"
   ]
  },
  {
   "cell_type": "code",
   "execution_count": null,
   "metadata": {},
   "outputs": [],
   "source": [
    "#handling of exceptions using TRY:\n",
    "x=10\n",
    "try:\n",
    "    print(x/0)\n",
    "except ZeroDivisionError:\n",
    "    print(\"we should not divide the number with zero\")\n",
    "    print(x/2)"
   ]
  },
  {
   "cell_type": "code",
   "execution_count": null,
   "metadata": {},
   "outputs": [],
   "source": [
    "10=a"
   ]
  },
  {
   "cell_type": "code",
   "execution_count": null,
   "metadata": {},
   "outputs": [],
   "source": [
    "x=int(input(\"enter no\"))\n",
    "print(x)"
   ]
  },
  {
   "cell_type": "code",
   "execution_count": null,
   "metadata": {},
   "outputs": [],
   "source": [
    "x=int(input(\"enter no\"))\n",
    "print(x)"
   ]
  },
  {
   "cell_type": "code",
   "execution_count": null,
   "metadata": {},
   "outputs": [],
   "source": [
    "try:\n",
    "    x=int(input(\"enter no\"))\n",
    "except ValueError:\n",
    "    print(\"u shouldnot enter string as input ,,,,,,,please enter only nos\")\n",
    "print(y)    \n",
    "    "
   ]
  },
  {
   "cell_type": "code",
   "execution_count": null,
   "metadata": {},
   "outputs": [],
   "source": [
    "try:\n",
    "    x=int(input(\"enter no\"))\n",
    "except ValueError:\n",
    "    print(\"u shouldnot enter string as input ,,,,,,,please enter only nos\")\n",
    "try:\n",
    "    \n",
    "    print(y)\n",
    "except NameError:\n",
    "        print(\"y is not defined please define the y with some value\")\n",
    "    "
   ]
  },
  {
   "cell_type": "markdown",
   "metadata": {},
   "source": [
    "### Try: with multiple Exceptions"
   ]
  },
  {
   "cell_type": "code",
   "execution_count": null,
   "metadata": {},
   "outputs": [],
   "source": [
    "try:\n",
    "    print(y)\n",
    "    x=int(input(\"enter no\"))\n",
    "except ValueError:\n",
    "    print(\"u shouldnot enter string as input ,,,,,,,please enter only nos\")\n",
    "try:\n",
    "    \n",
    "    print(y)\n",
    "except NameError:\n",
    "        print(\"y is not defined please define the y with some value\")\n",
    "    "
   ]
  },
  {
   "cell_type": "code",
   "execution_count": null,
   "metadata": {},
   "outputs": [],
   "source": [
    "y=10\n",
    "try:\n",
    "    x=int(input(\"enter no\"))\n",
    "except ValueError:\n",
    "    print(\"u shouldnot enter string as input ,,,,,,,please enter only nos\")\n",
    "try:\n",
    "    \n",
    "    print(y)\n",
    "    except NameError:\n",
    "        print(\"y is not defined please define the y with some value\")\n",
    "    "
   ]
  },
  {
   "cell_type": "code",
   "execution_count": null,
   "metadata": {},
   "outputs": [],
   "source": [
    "try:\n",
    "    a=int(input(\"enter a value:\"))\n",
    "    b=int(input(\"enter b value:\"))\n",
    "    print(a/b)\n",
    "except ArithmeticError:\n",
    "    print(\"AE\")\n",
    "except ZeroDivisionError:\n",
    "    print(\"we shouldnot divide with zero\")"
   ]
  },
  {
   "cell_type": "markdown",
   "metadata": {},
   "source": [
    "### single Except block with multiple errors:"
   ]
  },
  {
   "cell_type": "code",
   "execution_count": null,
   "metadata": {},
   "outputs": [],
   "source": [
    "try:\n",
    "    a=int(input(\"enter a value:\"))\n",
    "    b=int(input(\"enter b value:\"))\n",
    "    print(a/b)\n",
    "except(ZeroDivisionError,ValueError,NameError) as msg:\n",
    "    print(\"we got exception is:\",msg)\n",
    "    "
   ]
  },
  {
   "cell_type": "markdown",
   "metadata": {},
   "source": [
    "### default exception"
   ]
  },
  {
   "cell_type": "code",
   "execution_count": null,
   "metadata": {},
   "outputs": [],
   "source": [
    "syntax:\n",
    "    except:\n",
    "        print(\"Error message.....\")"
   ]
  },
  {
   "cell_type": "code",
   "execution_count": null,
   "metadata": {},
   "outputs": [],
   "source": [
    "try:\n",
    "    a=int(input(\"enter a value:\"))\n",
    "    b=int(input(\"enter b value:\"))\n",
    "    print(a/b)\n",
    "except ZeroDivisionError:\n",
    "        print(\"we should not divide with zero...\")\n",
    "except:\n",
    "        print(\"entered values are wrong...please enter only integers\")\n",
    "        "
   ]
  },
  {
   "cell_type": "code",
   "execution_count": null,
   "metadata": {},
   "outputs": [],
   "source": [
    "try:\n",
    "    a=int(input(\"enter a value:\"))\n",
    "    b=int(input(\"enter b value:\"))\n",
    "    print(a/b)\n",
    "    except ZeroDivisionError:\n",
    "        print(\"we should not divide with zero...\")\n",
    "    except ZeroDivisionError:\n",
    "        print(\"entered values are wrong...please enter only integers\")\n",
    "        "
   ]
  },
  {
   "cell_type": "code",
   "execution_count": null,
   "metadata": {},
   "outputs": [],
   "source": [
    "s1=\"hello\"\n",
    "s2=\"bye\"\n",
    "try:\n",
    "    print(s1/2)\n",
    "except TypeError:\n",
    "    print(\"we should not divide string with no or division is not allowed for string\")\n",
    "    "
   ]
  },
  {
   "cell_type": "code",
   "execution_count": null,
   "metadata": {},
   "outputs": [],
   "source": [
    "try:\n",
    "    a=int(input(\"enter a value:\"))\n",
    "    b=int(input(\"enter b value:\"))\n",
    "    print(a/b)\n",
    "    except ZeroDivisionError:\n",
    "        print(\"we should not divide with zero...\")\n",
    "    except:\n",
    "        print(\"entered values are wrong...please enter only integers\")\n",
    "    finally:\n",
    "        print(\"executed\")"
   ]
  }
 ],
 "metadata": {
  "kernelspec": {
   "display_name": "Python 3",
   "language": "python",
   "name": "python3"
  },
  "language_info": {
   "codemirror_mode": {
    "name": "ipython",
    "version": 3
   },
   "file_extension": ".py",
   "mimetype": "text/x-python",
   "name": "python",
   "nbconvert_exporter": "python",
   "pygments_lexer": "ipython3",
   "version": "3.8.5"
  }
 },
 "nbformat": 4,
 "nbformat_minor": 2
}
